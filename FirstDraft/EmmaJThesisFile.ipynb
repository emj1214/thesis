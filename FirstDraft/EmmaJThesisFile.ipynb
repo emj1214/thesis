{
  "cells": [
    {
      "cell_type": "code",
      "execution_count": null,
      "metadata": {
        "colab": {
          "base_uri": "https://localhost:8080/"
        },
        "id": "9GRu7F2jGdub",
        "outputId": "d691c586-87cb-49ca-c9e0-f79c2cc37359"
      },
      "outputs": [],
      "source": [
        "%pip install pandas\n",
        "%pip install numpy\n",
        "%pip install scipy\n",
        "%pip install plotnine"
      ]
    },
    {
      "cell_type": "code",
      "execution_count": null,
      "metadata": {
        "id": "8V1ZbSebGYv0"
      },
      "outputs": [],
      "source": [
        "import pandas as pd\n",
        "import numpy as np\n",
        "import scipy.integrate as integrate\n",
        "import warnings\n",
        "warnings.filterwarnings(\"ignore\")"
      ]
    },
    {
      "cell_type": "code",
      "execution_count": null,
      "metadata": {
        "id": "Ketkv8tLGYv3"
      },
      "outputs": [],
      "source": [
        "def utilcalc(b1, b2, theta_upper, theta_lower, fc=1, fd=1, pi=0.5):\n",
        "\n",
        "  b_bar = (b1+b2)/2\n",
        "  # print(\"b_bar =\", b_bar)\n",
        "\n",
        "  delt = (theta_upper-theta_lower)/2\n",
        "  # print(\"delt =\", delt)\n",
        "\n",
        "  # cut points for integrals\n",
        "\n",
        "  # thea1:\n",
        "  # Min{b_bar, b1+theta_upper}\n",
        "  min_bb_b1thu = np.min([b_bar, (b1+theta_upper)])\n",
        "  # Min{b_bar, b1+theta_lower}\n",
        "  min_bb_b1thl = np.min([b_bar, (b1+theta_lower)])\n",
        "  # Min{b_bar-delta, b1+theta_lower}\n",
        "  min_bbmd_b1thl = np.min([(b_bar-delt), (b1+theta_lower)])\n",
        "  # Min{b_bar+delta, b1+theta_upper}\n",
        "  min_bbpd_b1thu = np.min([(b_bar+delt), (b1+theta_upper)])\n",
        "\n",
        "  # Max{0, b1-theta_upper}\n",
        "  max_0_b1thu = np.max([0, (b1-theta_upper)])\n",
        "  # Max{0, b1-theta_lower}\n",
        "  max_0_b1thl = np.max([0, (b1-theta_lower)])\n",
        "\n",
        "  # thea2:\n",
        "  # Max{b_bar, b2-theta_upper}\n",
        "  max_bb_b2thu = np.max([b_bar, (b2-theta_upper)])\n",
        "  # Max{b_bar, b2-theta_lower}\n",
        "  max_bb_b2thl = np.max([b_bar, (b2-theta_lower)])\n",
        "  # Max{b_bar+delta, b2-theta_lower}\n",
        "  max_bbpd_b2thl = np.max([(b_bar+delt), (b2-theta_lower)])\n",
        "  # Max{b_bar-delta, b2-theta_upper}\n",
        "  max_bbmd_b2thu = np.max([(b_bar-delt), (b2-theta_upper)])\n",
        "\n",
        "  # Min{1, b2+theta_upper}\n",
        "  min_1_b2thu = np.min([1, (b2+theta_upper)])\n",
        "  # Min{1, b2+theta_lower}\n",
        "  min_1_b2thl = np.min([1, (b2+theta_lower)])\n",
        "\n",
        "  u1cc = (pi*np.max([(integrate.quad(lambda x: fc, max_0_b1thu, min_bb_b1thu))[0],0])) + ((1-pi)*np.max([(integrate.quad(lambda x: fd, max_0_b1thl, min_bb_b1thl))[0],0]))\n",
        "  # print(\"U1CC =\", u1cc)\n",
        "\n",
        "  u2cc = (pi*np.max([(integrate.quad(lambda x: fc, max_bb_b2thu, min_1_b2thu))[0],0])) + ((1-pi)*np.max([(integrate.quad(lambda x: fd, max_bb_b2thl, min_1_b2thl))[0],0]))\n",
        "  # print(\"U2CC =\", u2cc)\n",
        "\n",
        "  u1dd = (pi*np.max([(integrate.quad(lambda x: fc, max_0_b1thl, min_bb_b1thl))[0],0])) + ((1-pi)*np.max([(integrate.quad(lambda x: fd, max_0_b1thu, min_bb_b1thu))[0],0]))\n",
        "  # print(\"U1DD =\", u1dd)\n",
        "\n",
        "  u2dd = (pi*np.max([(integrate.quad(lambda x: fc, max_bb_b2thl, min_1_b2thl))[0],0])) + ((1-pi)*np.max([(integrate.quad(lambda x: fd, max_bb_b2thu, min_1_b2thu))[0],0]))\n",
        "  # print(\"U2DD =\", u2dd)\n",
        "\n",
        "  u1cd = (pi*np.max([(integrate.quad(lambda x: fc, max_0_b1thu, min_bbpd_b1thu))[0],0])) + ((1-pi)*np.max([(integrate.quad(lambda x: fd, max_0_b1thl, min_bbmd_b1thl))[0],0]))\n",
        "  # print(\"U1CD =\", u1cd)\n",
        "\n",
        "  u2cd = (pi*np.max([(integrate.quad(lambda x: fc, max_bbpd_b2thl, min_1_b2thl))[0],0])) + ((1-pi)*np.max([(integrate.quad(lambda x: fd, max_bbmd_b2thu, min_1_b2thu))[0],0]))\n",
        "  # print(\"U2CD =\", u2cd)\n",
        "\n",
        "  u1dc = (pi*np.max([(integrate.quad(lambda x: fc, max_0_b1thl, min_bbmd_b1thl))[0],0])) + ((1-pi)*np.max([(integrate.quad(lambda x: fd, max_0_b1thu, min_bbpd_b1thu))[0],0]))\n",
        "  # print(\"U1DC =\", u1dc)\n",
        "\n",
        "  u2dc = (pi*np.max([(integrate.quad(lambda x: fc, max_bbmd_b2thu, min_1_b2thu))[0],0])) + ((1-pi)*np.max([(integrate.quad(lambda x: fd, max_bbpd_b2thl, min_1_b2thl))[0],0]))\n",
        "  # print(\"U2DC =\", u2dc)\n",
        "\n",
        "  return {\"u1cc\":round(u1cc, 4), \"u2cc\":round(u2cc, 4), \"u1dd\":round(u1dd, 4), \"u2dd\":round(u2dd, 4), \"u1cd\":round(u1cd, 4), \"u2cd\":round(u2cd, 4), \"u1dc\":round(u1dc, 4), \"u2dc\":round(u2dc, 4)}"
      ]
    },
    {
      "cell_type": "code",
      "execution_count": null,
      "metadata": {
        "id": "bTpnevlDGYv4"
      },
      "outputs": [],
      "source": [
        "def mixing(u1cc, u2cc, u1dd, u2dd, u1cd, u2cd, u1dc, u2dc):\n",
        "  p1 = (u2dd-u2dc)/(u2cc+u2dd-u2cd-u2dc)\n",
        "  p2 = (u1dd-u1cd)/(u1cc+u1dd-u1dc-u1cd)\n",
        "\n",
        "  return {\"p1\": round(p1, 4), \"p2\": round(p2, 4)}"
      ]
    },
    {
      "cell_type": "code",
      "execution_count": null,
      "metadata": {
        "id": "FndGJe1qGYv5"
      },
      "outputs": [],
      "source": [
        "def equilib_checker(u1cc, u2cc, u1dd, u2dd, u1cd, u2cd, u1dc, u2dc, p1, p2):\n",
        "  cc = False\n",
        "  dd = False\n",
        "  cd = False\n",
        "  dc = False\n",
        "  mixed = False\n",
        "\n",
        "  if (u1cc >= u1dc) & (u2cc >= u2cd):\n",
        "    cc = True\n",
        "  if (u1dd >= u1cd) & (u2dd >= u2dc):\n",
        "    dd = True\n",
        "  if (u1cd >= u1dd) & (u2cd >= u2cc):\n",
        "    cd = True\n",
        "  if (u1dc >= u1cc) & (u2dc >= u2dd):\n",
        "    dc = True\n",
        "\n",
        "  if (p1 > 0) & (p1 < 1) & (p2 > 0) & (p2 < 1):\n",
        "    mixed = True\n",
        "\n",
        "  return {\"CC\":cc, \"DD\":dd, \"CD\":cd, \"DC\":dc, \"Mixed\":mixed}"
      ]
    },
    {
      "cell_type": "code",
      "execution_count": null,
      "metadata": {
        "colab": {
          "base_uri": "https://localhost:8080/",
          "height": 1000
        },
        "id": "q_hCQCM1GYv6",
        "outputId": "550d1723-8ed2-46ea-e887-2051f3c5e8ec"
      },
      "outputs": [],
      "source": [
        "fc = 1\n",
        "fd = 1\n",
        "pi = 0\n",
        "\n",
        "pi_inc = 0.025\n",
        "theta_inc = 0.025\n",
        "b_inc = 0.025\n",
        "\n",
        "b_values = np.arange(0, 1 + b_inc, b_inc)\n",
        "print(b_values)\n",
        "theta_values = np.arange(0, 1 + theta_inc, theta_inc)\n",
        "print(theta_values)\n",
        "pi_values = np.arange(0, 1 + pi_inc, pi_inc)\n",
        "print(pi_values)\n",
        "\n",
        "df = pd.DataFrame(columns=[\"b1\", \"b2\", \"theta_upper\", \"theta_lower\", \"fc\", \"fd\", \"pi\",\n",
        "                           \"u1cc\", \"u2cc\", \"u1dd\", \"u2dd\", \"u1cd\", \"u2cd\", \"u1dc\", \"u2dc\",\n",
        "                           \"CC\", \"DD\", \"CD\", \"DC\", \"P1\", \"P2\", \"Mixed\"])\n",
        "\n",
        "\n",
        "for pi in pi_values:\n",
        "    for b1 in b_values:\n",
        "        for b2 in b_values:\n",
        "            if b2 > b1:\n",
        "                for theta_lower in theta_values:\n",
        "                    for theta_upper in theta_values:\n",
        "                        if theta_upper > theta_lower:\n",
        "                            a = utilcalc(b1=b1, b2=b2, theta_upper=theta_upper, theta_lower=theta_lower, fc=1, fd=1, pi=pi)\n",
        "                            b = mixing(a[\"u1cc\"], a[\"u2cc\"], a[\"u1dd\"], a[\"u2dd\"], a[\"u1cd\"], a[\"u2cd\"], a[\"u1dc\"], a[\"u2dc\"])\n",
        "                            c = equilib_checker(a[\"u1cc\"], a[\"u2cc\"], a[\"u1dd\"], a[\"u2dd\"], a[\"u1cd\"], a[\"u2cd\"], a[\"u1dc\"], a[\"u2dc\"], b[\"p1\"], b[\"p2\"])\n",
        "                            tempdf = pd.DataFrame.from_dict({\"b1\": [b1], \"b2\": [b2], \"theta_upper\": [theta_upper], \"theta_lower\": [theta_lower], \"fc\": [fc], \"fd\": [fd], \"pi\": [pi],\n",
        "                                            \"u1cc\": [a[\"u1cc\"]], \"u2cc\": [a['u2cc']], \"u1dd\": [a['u1dd']], \"u2dd\": [a['u2dd']], \"u1cd\": [a['u1cd']], \"u2cd\": [a['u2cd']], \"u1dc\": [a['u1dc']], \"u2dc\": [a['u2dc']],\n",
        "                                            \"CC\": [c[\"CC\"]], \"DD\": [c[\"DD\"]], \"CD\": [c[\"CD\"]], \"DC\": [c[\"DC\"]], \"P1\": [b[\"p1\"]], \"P2\": [b[\"p1\"]], \"Mixed\": [c[\"Mixed\"]]})\n",
        "                            df = pd.concat([df, tempdf])\n",
        "\n",
        "\n",
        "df.to_csv(\"point025incV1.csv\")"
      ]
    },
    {
      "cell_type": "code",
      "execution_count": null,
      "metadata": {
        "id": "eLi4HYanGYv7"
      },
      "outputs": [],
      "source": [
        "df = pd.read_csv(\"point025incV1.csv\")\n",
        "df = df.round(decimals=3)"
      ]
    },
    {
      "cell_type": "code",
      "execution_count": null,
      "metadata": {
        "id": "br8SXc-XGYv7"
      },
      "outputs": [],
      "source": [
        "mixeddf = df[df['Mixed']]\n",
        "mixeddf.sort_values('P1')\n",
        "mixeddf.to_csv(\"mixed025V1.csv\")"
      ]
    },
    {
      "cell_type": "code",
      "execution_count": null,
      "metadata": {
        "id": "z743lW4oGYv8"
      },
      "outputs": [],
      "source": [
        "mixeddf = pd.read_csv(\"mixed025V1.csv\")"
      ]
    },
    {
      "cell_type": "code",
      "execution_count": null,
      "metadata": {
        "id": "yZSe9mwqGYv8"
      },
      "outputs": [],
      "source": [
        "mixpimax = mixeddf['pi'].max()\n",
        "mixpimin = mixeddf['pi'].min()\n",
        "mixpiunq = mixeddf['pi'].unique()\n",
        "\n",
        "print(f\"pi max = {mixpimax}\")\n",
        "print(f\"pi min = {mixpimin}\")\n",
        "print(f\"vals include {mixpiunq}\")"
      ]
    },
    {
      "cell_type": "code",
      "execution_count": null,
      "metadata": {
        "id": "PjUJZu8DGYv8"
      },
      "outputs": [],
      "source": [
        "ccdf = df[df['CC']==True]\n",
        "ccpimax = ccdf['pi'].max()\n",
        "ccpimin = ccdf['pi'].min()\n",
        "ccpiunq = ccdf['pi'].unique()\n",
        "\n",
        "print(f\"pi max = {ccpimax}\")\n",
        "print(f\"pi min = {ccpimin}\")\n",
        "print(f\"vals include {ccpiunq}\")\n",
        "ccdf"
      ]
    },
    {
      "cell_type": "code",
      "execution_count": null,
      "metadata": {
        "id": "pzPAuWzmGYv9"
      },
      "outputs": [],
      "source": [
        "cddf = df[df['CD']==True]\n",
        "cdpimax = cddf['pi'].max()\n",
        "cdpimin = cddf['pi'].min()\n",
        "cdpiunq = cddf['pi'].unique()\n",
        "\n",
        "print(f\"pi max = {cdpimax}\")\n",
        "print(f\"pi min = {cdpimin}\")\n",
        "print(f\"vals include {cdpiunq}\")\n",
        "cddf"
      ]
    },
    {
      "cell_type": "code",
      "execution_count": null,
      "metadata": {
        "id": "33auaBKjGYv9"
      },
      "outputs": [],
      "source": [
        "dddf = df[df['DD']]\n",
        "ddpimax = dddf['pi'].max()\n",
        "ddpimin = dddf['pi'].min()\n",
        "ddpiunq = dddf['pi'].unique()\n",
        "\n",
        "print(f\"pi max = {ddpimax}\")\n",
        "print(f\"pi min = {ddpimin}\")\n",
        "print(f\"vals include {ddpiunq}\")\n",
        "dddf"
      ]
    },
    {
      "cell_type": "code",
      "execution_count": null,
      "metadata": {
        "id": "1JI20iVRGYv9"
      },
      "outputs": [],
      "source": [
        "dcdf = df[df['DC']]\n",
        "dcpimax = cddf['pi'].max()\n",
        "dcpimin = cddf['pi'].min()\n",
        "dcpiunq = cddf['pi'].unique()\n",
        "\n",
        "print(f\"pi max = {dcpimax}\")\n",
        "print(f\"pi min = {dcpimin}\")\n",
        "print(f\"vals include {dcpiunq}\")\n",
        "dcdf"
      ]
    },
    {
      "cell_type": "code",
      "execution_count": null,
      "metadata": {
        "id": "q0MxLlHsGYv-"
      },
      "outputs": [],
      "source": [
        "from plotnine import ggplot, aes, geom_point, geom_jitter\n",
        "\n",
        "df123 = df[(df['pi']==0.6)&(df['theta_upper']==0.9)&(df['theta_lower']==0.1)]\n",
        "\n",
        "df123CC = df123[df123['CC']==True]\n",
        "df123DD = df123[df123['DD']==True]\n",
        "df123CD = df123[df123['CD']==True]\n",
        "df123DC = df123[df123['DC']==True]\n",
        "\n",
        "(\n",
        "    ggplot()  # What data to use\n",
        "    + aes(x=\"b1\", y=\"b2\")  # What variable to use\n",
        "    + geom_jitter(df123CC, color=\"blue\", width = 0.02, height = 0.02)  # Geometric object to use for drawing\n",
        "    + geom_jitter(df123DD, color=\"red\", width = 0.02, height = 0.02)\n",
        "    + geom_jitter(df123CD, color=\"green\", width = 0.02, height = 0.02)\n",
        "    + geom_jitter(df123DC, color=\"black\", width = 0.02, height = 0.02)\n",
        ")"
      ]
    }
  ],
  "metadata": {
    "colab": {
      "provenance": []
    },
    "kernelspec": {
      "display_name": "Python 3",
      "language": "python",
      "name": "python3"
    },
    "language_info": {
      "codemirror_mode": {
        "name": "ipython",
        "version": 3
      },
      "file_extension": ".py",
      "mimetype": "text/x-python",
      "name": "python",
      "nbconvert_exporter": "python",
      "pygments_lexer": "ipython3",
      "version": "3.12.2"
    }
  },
  "nbformat": 4,
  "nbformat_minor": 0
}
